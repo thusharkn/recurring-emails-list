{
 "cells": [
  {
   "cell_type": "code",
   "execution_count": 12,
   "metadata": {},
   "outputs": [],
   "source": [
    "'''\n",
    "- run this file in colab.google.com\n",
    "- you'll have to save a version of the gsheets in your local machine, and then upload it in google colab\n",
    "- replace file name to the one you downloaded in between quotations\n",
    "'''\n",
    "\n",
    "import pandas as pd\n",
    "df = 'monthly-findings.xlsx'"
   ]
  },
  {
   "cell_type": "code",
   "execution_count": 13,
   "metadata": {},
   "outputs": [],
   "source": [
    "#replace sheet1 and sheet2 in quotations with your required sheet names in the downloaded file\n",
    "\n",
    "sheet1 = pd.read_excel(df, sheet_name = 'Sheet1')\n",
    "sheet2 = pd.read_excel(df, sheet_name = 'Sheet2')"
   ]
  },
  {
   "cell_type": "code",
   "execution_count": 17,
   "metadata": {},
   "outputs": [],
   "source": [
    "column_name = 'Email / Contact Form' #this will create a new column\n",
    "\n",
    "emails1 = sheet1[column_name]\n",
    "emails2 = sheet2[column_name]\n",
    "\n",
    "duplicate_emails = pd.Series(list(set(emails1) & set(emails2)), name=column_name)"
   ]
  },
  {
   "cell_type": "code",
   "execution_count": 18,
   "metadata": {},
   "outputs": [
    {
     "name": "stdout",
     "output_type": "stream",
     "text": [
      "recurring emails saved\n"
     ]
    }
   ],
   "source": [
    "duplicate_emails.to_frame().to_excel(\"recurring_emails.xlsx\", index=False)\n",
    "print(\"recurring emails saved\")"
   ]
  }
 ],
 "metadata": {
  "kernelspec": {
   "display_name": "Python 3 (ipykernel)",
   "language": "python",
   "name": "python3"
  },
  "language_info": {
   "codemirror_mode": {
    "name": "ipython",
    "version": 3
   },
   "file_extension": ".py",
   "mimetype": "text/x-python",
   "name": "python",
   "nbconvert_exporter": "python",
   "pygments_lexer": "ipython3",
   "version": "3.10.12"
  }
 },
 "nbformat": 4,
 "nbformat_minor": 4
}
